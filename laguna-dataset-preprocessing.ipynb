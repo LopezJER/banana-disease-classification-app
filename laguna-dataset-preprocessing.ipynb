{
 "cells": [
  {
   "cell_type": "code",
   "execution_count": 1,
   "id": "b2e10c2d",
   "metadata": {},
   "outputs": [],
   "source": [
    "# Imports from Video 10 - Image Preparation for Convulutional Neural Networks with TensorFlow's Keras API\n",
    "# Source link: https://www.youtube.com/watch?v=_L2uYfVV48I&list=PLkUrsn8FkQFb5Gr_CY7HQErZRr6mPb-2q&index=11&t=222s\n",
    "\n",
    "import numpy as np # linear algebra\n",
    "import tensorflow as tf\n",
    "from tensorflow.keras.models import Sequential\n",
    "from tensorflow.keras.layers import Activation, Dense, Flatten, BatchNormalization, Conv2D, MaxPool2D\n",
    "from tensorflow.keras.optimizers import Adam \n",
    "from tensorflow.keras.metrics import categorical_crossentropy\n",
    "from tensorflow.keras.preprocessing.image import ImageDataGenerator\n",
    "from sklearn.metrics import confusion_matrix\n",
    "import itertools\n",
    "import shutil\n",
    "import random\n",
    "import glob\n",
    "import matplotlib.pyplot as plt\n",
    "import warnings\n",
    "warnings.simplefilter(action='ignore', category=FutureWarning)\n",
    "%matplotlib inline\n",
    "import os\n",
    "import pandas as pd # data processing, CSV file I/O (e.g. pd.read_csv)"
   ]
  },
  {
   "cell_type": "code",
   "execution_count": 3,
   "id": "0c718c97",
   "metadata": {},
   "outputs": [],
   "source": [
    "# Change the working directory to the source directory\n",
    "dataset_path = os.path.join(os.path.expanduser('~'), 'Desktop', 'laguna_dataset')\n",
    "os.chdir(dataset_path)\n",
    "\n",
    "# Create a directory for dataset preprocessing inside the working directory\n",
    "dataset_preprocessing_path = os.path.join(dataset_path, 'laguna_dataset_preprocessing')\n",
    "os.makedirs(dataset_preprocessing_path, exist_ok=True)\n",
    "\n",
    "# Load metadata from the CSV file\n",
    "metadata = pd.read_csv('metadata.csv')  # Replace 'metadata.csv' with your actual CSV file name\n",
    "\n",
    "# Define the specific diseases and parts included\n",
    "diseases = ['Healthy', 'Bunchy top', 'Black sigatoka']\n",
    "parts = ['foliage', 'leaf']\n",
    "\n",
    "# Filter out rows with 'treeID' containing 'Unrecorded'\n",
    "metadata = metadata[metadata['treeID'] != 'Unrecorded']\n",
    "\n",
    "# Shuffle the metadata to distribute the data randomly\n",
    "metadata = metadata.sample(frac=1).reset_index(drop=True)\n",
    "\n",
    "# Iterate through the metadata, apply the \"disease,\" \"part,\" and \"treeID\" filters, and move the images\n",
    "for _, row in metadata.iterrows():\n",
    "    imageID = row['imageID']\n",
    "    disease = row['disease']\n",
    "    part = row['part']\n",
    "    treeID = row['treeID']\n",
    "\n",
    "    if disease in diseases and part in parts and treeID != 'Unrecorded':\n",
    "        # Remove the \".jpg\" extension from imageID if present\n",
    "        imageID = imageID.replace(\".jpg\", \"\")\n",
    "\n",
    "        # Add the \".jpg\" extension to the source_path\n",
    "        source_path = os.path.join(dataset_path, f\"{imageID}.jpg\")\n",
    "        dest_path = os.path.join(dataset_preprocessing_path, f\"{imageID}.jpg\")\n",
    "        shutil.move(source_path, dest_path)"
   ]
  }
 ],
 "metadata": {
  "kernelspec": {
   "display_name": "Python 3 (ipykernel)",
   "language": "python",
   "name": "python3"
  },
  "language_info": {
   "codemirror_mode": {
    "name": "ipython",
    "version": 3
   },
   "file_extension": ".py",
   "mimetype": "text/x-python",
   "name": "python",
   "nbconvert_exporter": "python",
   "pygments_lexer": "ipython3",
   "version": "3.11.5"
  }
 },
 "nbformat": 4,
 "nbformat_minor": 5
}
