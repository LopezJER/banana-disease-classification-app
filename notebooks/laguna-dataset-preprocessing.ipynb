{
 "cells": [
  {
   "cell_type": "markdown",
   "id": "32ec519d-8cf7-45e3-9561-2fb05676ff9c",
   "metadata": {},
   "source": [
    "# Dataset preprocessing"
   ]
  },
  {
   "cell_type": "markdown",
   "id": "6670ef70-59a6-47ff-bb73-77c05396b09c",
   "metadata": {},
   "source": [
    "## WARNING: Do not use this notebook, use the update-dateset-splitting.ipyb to both preprocess and split the dataset instead"
   ]
  },
  {
   "cell_type": "markdown",
   "id": "f4c11344-d5b0-423c-bfe3-9be0cf3f019e",
   "metadata": {},
   "source": [
    "## Import libraries"
   ]
  },
  {
   "cell_type": "code",
   "execution_count": 11,
   "id": "b2e10c2d",
   "metadata": {},
   "outputs": [],
   "source": [
    "import os\n",
    "import pandas as pd\n",
    "import shutil"
   ]
  },
  {
   "cell_type": "markdown",
   "id": "21155188-4ecb-406b-a933-ceb5e7730bc2",
   "metadata": {},
   "source": [
    "## Dataset Preprocessing"
   ]
  },
  {
   "cell_type": "code",
   "execution_count": 12,
   "id": "0c718c97",
   "metadata": {},
   "outputs": [],
   "source": [
    "# Change the working directory to the source directory\n",
    "dataset_path = os.path.join(os.path.expanduser('~'), 'Desktop', 'laguna_dataset')\n",
    "os.chdir(dataset_path)\n",
    "\n",
    "# Create a directory for dataset preprocessing inside the working directory\n",
    "dataset_preprocessing_path = os.path.join(dataset_path, 'laguna_dataset_preprocessing')\n",
    "os.makedirs(dataset_preprocessing_path, exist_ok=True)\n",
    "\n",
    "# Load metadata from the CSV file\n",
    "metadata = pd.read_csv('metadata.csv')  # Replace 'metadata.csv' with your actual CSV file name\n",
    "\n",
    "# Define the specific diseases and parts included\n",
    "diseases = ['Healthy', 'Bunchy top', 'Black sigatoka']\n",
    "parts = ['foliage', 'leaf']\n",
    "\n",
    "# Filter out rows with 'treeID' containing 'Unrecorded'\n",
    "metadata = metadata[metadata['treeID'] != 'Unrecorded']\n",
    "\n",
    "# Shuffle the metadata to distribute the data randomly\n",
    "metadata = metadata.sample(frac=1).reset_index(drop=True)\n",
    "\n",
    "# Initialize an empty list to store the metadata of the filtered images\n",
    "filtered_metadata = []\n",
    "\n",
    "# Iterate through the metadata, apply the \"disease,\" \"part,\" and \"treeID\" filters, and move the images\n",
    "for _, row in metadata.iterrows():\n",
    "    imageID = row['imageID']\n",
    "    disease = row['disease']\n",
    "    part = row['part']\n",
    "    treeID = row['treeID']\n",
    "\n",
    "    if disease in diseases and part in parts and treeID != 'Unrecorded':\n",
    "        # Remove the \".jpg\" extension from imageID if present\n",
    "        imageID = imageID.replace(\".jpg\", \"\")\n",
    "\n",
    "        # Add the \".jpg\" extension to the source_path\n",
    "        source_path = os.path.join(dataset_path, f\"{imageID}.jpg\")\n",
    "        dest_path = os.path.join(dataset_preprocessing_path, f\"{imageID}.jpg\")\n",
    "        shutil.move(source_path, dest_path)\n",
    "\n",
    "        # Append the filtered metadata to the list\n",
    "        filtered_metadata.append(row)\n",
    "\n",
    "# Convert the list of dictionaries to a DataFrame\n",
    "filtered_metadata = pd.DataFrame(filtered_metadata)\n",
    "\n",
    "# Save the filtered metadata to a CSV file inside the dest_path\n",
    "csv_file_path = os.path.join(dataset_preprocessing_path, 'filtered_metadata.csv')\n",
    "filtered_metadata.to_csv(csv_file_path, index=False)"
   ]
  }
 ],
 "metadata": {
  "kernelspec": {
   "display_name": "Python 3 (ipykernel)",
   "language": "python",
   "name": "python3"
  },
  "language_info": {
   "codemirror_mode": {
    "name": "ipython",
    "version": 3
   },
   "file_extension": ".py",
   "mimetype": "text/x-python",
   "name": "python",
   "nbconvert_exporter": "python",
   "pygments_lexer": "ipython3",
   "version": "3.11.6"
  }
 },
 "nbformat": 4,
 "nbformat_minor": 5
}
